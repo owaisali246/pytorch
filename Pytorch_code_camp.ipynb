{
  "nbformat": 4,
  "nbformat_minor": 0,
  "metadata": {
    "colab": {
      "provenance": [],
      "authorship_tag": "ABX9TyO3r+T6ctRgDkMchUkmoymN",
      "include_colab_link": true
    },
    "kernelspec": {
      "name": "python3",
      "display_name": "Python 3"
    },
    "language_info": {
      "name": "python"
    }
  },
  "cells": [
    {
      "cell_type": "markdown",
      "metadata": {
        "id": "view-in-github",
        "colab_type": "text"
      },
      "source": [
        "<a href=\"https://colab.research.google.com/github/owaisali246/pytorch/blob/main/Pytorch_code_camp.ipynb\" target=\"_parent\"><img src=\"https://colab.research.google.com/assets/colab-badge.svg\" alt=\"Open In Colab\"/></a>"
      ]
    },
    {
      "cell_type": "markdown",
      "source": [
        "YT-time: 1:22:00"
      ],
      "metadata": {
        "id": "w-kcXE4y1T4G"
      }
    },
    {
      "cell_type": "code",
      "source": [
        "!pip install -U git+https://github.com/amitness/colab-connect.git"
      ],
      "metadata": {
        "id": "PSBUaF_460Ts"
      },
      "execution_count": null,
      "outputs": []
    },
    {
      "cell_type": "code",
      "source": [
        "from colabconnect import colabconnect\n",
        "\n",
        "colabconnect()"
      ],
      "metadata": {
        "id": "8g3uh_0q67I9"
      },
      "execution_count": null,
      "outputs": []
    },
    {
      "cell_type": "code",
      "execution_count": 2,
      "metadata": {
        "id": "qKd9f2TfpZkb"
      },
      "outputs": [],
      "source": [
        "# imports\n",
        "\n",
        "import numpy as np\n",
        "import pandas as pd\n",
        "import matplotlib.pyplot as plt\n",
        "import torch"
      ]
    },
    {
      "cell_type": "code",
      "source": [
        "print(torch.__version__)\n",
        "!nvidia-smi"
      ],
      "metadata": {
        "id": "f9p4CdWvtniB"
      },
      "execution_count": null,
      "outputs": []
    },
    {
      "cell_type": "markdown",
      "source": [
        "# Introduction to Tensors"
      ],
      "metadata": {
        "id": "Ix8PrERzTGBV"
      }
    },
    {
      "cell_type": "markdown",
      "source": [
        "## Scalars"
      ],
      "metadata": {
        "id": "3s5fL0yETKOM"
      }
    },
    {
      "cell_type": "code",
      "source": [
        "scalar = torch.tensor(7)\n",
        "print(scalar)\n",
        "print(scalar.ndim)\n",
        "print(scalar.item())"
      ],
      "metadata": {
        "id": "9P6QVCt713qp",
        "colab": {
          "base_uri": "https://localhost:8080/"
        },
        "outputId": "8359010f-f3e1-431b-e489-f3496decaa5d"
      },
      "execution_count": 3,
      "outputs": [
        {
          "output_type": "stream",
          "name": "stdout",
          "text": [
            "tensor(7)\n",
            "0\n",
            "7\n"
          ]
        }
      ]
    },
    {
      "cell_type": "markdown",
      "source": [
        "## Vectors"
      ],
      "metadata": {
        "id": "nQZr2uiXUG59"
      }
    },
    {
      "cell_type": "code",
      "source": [
        "vector = torch.tensor([7, 8])\n",
        "print(vector)\n",
        "print(vector.ndim)\n",
        "print(vector.shape)"
      ],
      "metadata": {
        "outputId": "7941f8b4-8d35-4e32-cbf7-705173380372",
        "colab": {
          "base_uri": "https://localhost:8080/"
        },
        "id": "vg8mQMpqUG6F"
      },
      "execution_count": 6,
      "outputs": [
        {
          "output_type": "stream",
          "name": "stdout",
          "text": [
            "tensor([7, 8])\n",
            "1\n",
            "torch.Size([2])\n"
          ]
        }
      ]
    },
    {
      "cell_type": "markdown",
      "source": [
        "## Matrix"
      ],
      "metadata": {
        "id": "nh5Is597UxHb"
      }
    },
    {
      "cell_type": "code",
      "source": [
        "matrix = torch.tensor([[7, 8], [1, 9]])\n",
        "print(matrix)\n",
        "print(matrix.ndim)\n",
        "print(matrix.shape)"
      ],
      "metadata": {
        "outputId": "0a61dc77-00ea-4906-8269-d3210966ce55",
        "colab": {
          "base_uri": "https://localhost:8080/"
        },
        "id": "FwZ3Wh3gUxHf"
      },
      "execution_count": 7,
      "outputs": [
        {
          "output_type": "stream",
          "name": "stdout",
          "text": [
            "tensor([[7, 8],\n",
            "        [1, 9]])\n",
            "2\n",
            "torch.Size([2, 2])\n"
          ]
        }
      ]
    }
  ]
}