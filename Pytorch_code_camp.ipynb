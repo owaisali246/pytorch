{
  "cells": [
    {
      "cell_type": "markdown",
      "metadata": {
        "colab_type": "text",
        "id": "view-in-github"
      },
      "source": [
        "<a href=\"https://colab.research.google.com/github/owaisali246/pytorch/blob/main/Pytorch_code_camp.ipynb\" target=\"_parent\"><img src=\"https://colab.research.google.com/assets/colab-badge.svg\" alt=\"Open In Colab\"/></a>"
      ]
    },
    {
      "cell_type": "markdown",
      "metadata": {
        "id": "w-kcXE4y1T4G"
      },
      "source": [
        "YT-time: 1:22:00"
      ]
    },
    {
      "cell_type": "markdown",
      "metadata": {},
      "source": [
        "# **Setup**"
      ]
    },
    {
      "cell_type": "code",
      "execution_count": null,
      "metadata": {
        "id": "qKd9f2TfpZkb"
      },
      "outputs": [],
      "source": [
        "### imports\n",
        "\n",
        "import numpy as np\n",
        "import pandas as pd\n",
        "import matplotlib.pyplot as plt\n",
        "import torch\n",
        "from torch import float32, float16, float64, int8"
      ]
    },
    {
      "cell_type": "code",
      "execution_count": null,
      "metadata": {
        "id": "f9p4CdWvtniB"
      },
      "outputs": [],
      "source": [
        "# Versions\n",
        "print(f\"NumPy version: {np.__version__}\")\n",
        "print(f\"Pandas version: {pd.__version__}\")\n",
        "print(f\"Matplotlib version: {plt.matplotlib.__version__}\")\n",
        "print(f\"PyTorch version: {torch.__version__}\")\n",
        "print(f\"CUDA available: {torch.cuda.is_available()}\")\n",
        "!nvidia-smi"
      ]
    },
    {
      "cell_type": "markdown",
      "metadata": {},
      "source": [
        "---"
      ]
    },
    {
      "cell_type": "markdown",
      "metadata": {
        "id": "Ix8PrERzTGBV"
      },
      "source": [
        "# **Introduction to Tensors**"
      ]
    },
    {
      "cell_type": "markdown",
      "metadata": {
        "id": "3s5fL0yETKOM"
      },
      "source": [
        "## **Scalars**"
      ]
    },
    {
      "cell_type": "code",
      "execution_count": null,
      "metadata": {
        "colab": {
          "base_uri": "https://localhost:8080/"
        },
        "id": "9P6QVCt713qp",
        "outputId": "8359010f-f3e1-431b-e489-f3496decaa5d"
      },
      "outputs": [],
      "source": [
        "scalar = torch.tensor(7)\n",
        "print(scalar)\n",
        "print(scalar.ndim)\n",
        "print(scalar.item())"
      ]
    },
    {
      "cell_type": "markdown",
      "metadata": {},
      "source": [
        "---"
      ]
    },
    {
      "cell_type": "markdown",
      "metadata": {
        "id": "nQZr2uiXUG59"
      },
      "source": [
        "## **Vectors**"
      ]
    },
    {
      "cell_type": "code",
      "execution_count": null,
      "metadata": {
        "colab": {
          "base_uri": "https://localhost:8080/"
        },
        "id": "vg8mQMpqUG6F",
        "outputId": "7941f8b4-8d35-4e32-cbf7-705173380372"
      },
      "outputs": [],
      "source": [
        "vector = torch.tensor([7, 8])\n",
        "print(vector)\n",
        "print(vector.ndim)\n",
        "print(vector.shape)"
      ]
    },
    {
      "cell_type": "markdown",
      "metadata": {},
      "source": [
        "---"
      ]
    },
    {
      "cell_type": "markdown",
      "metadata": {
        "id": "nh5Is597UxHb"
      },
      "source": [
        "## **Matrix**"
      ]
    },
    {
      "cell_type": "code",
      "execution_count": null,
      "metadata": {
        "colab": {
          "base_uri": "https://localhost:8080/"
        },
        "id": "FwZ3Wh3gUxHf",
        "outputId": "3a5a7e12-525c-4030-a5a6-4db1416599a5"
      },
      "outputs": [],
      "source": [
        "MATRIX = torch.tensor([[7, 8], [1, 9]])\n",
        "print(MATRIX)\n",
        "print(MATRIX.ndim)\n",
        "print(MATRIX.shape)\n",
        "print(MATRIX[0][1])"
      ]
    },
    {
      "cell_type": "markdown",
      "metadata": {},
      "source": [
        "---"
      ]
    },
    {
      "cell_type": "markdown",
      "metadata": {
        "id": "hRcUvWGiVrYa"
      },
      "source": [
        "## **Tensors**"
      ]
    },
    {
      "cell_type": "code",
      "execution_count": null,
      "metadata": {
        "id": "qhq3dCCuVrYi"
      },
      "outputs": [],
      "source": [
        "TENSOR = torch.tensor([[[7, 5], [1, 9], [2, 2]], [[1, 4], [2, 8], [3, 7]]])\n",
        "print(TENSOR)\n",
        "\n",
        "print(TENSOR.ndim)\n",
        "print(TENSOR.shape)\n",
        "print(TENSOR[0][1])"
      ]
    },
    {
      "cell_type": "markdown",
      "metadata": {},
      "source": [
        "---"
      ]
    },
    {
      "cell_type": "markdown",
      "metadata": {
        "id": "PDo0_vptcVkZ"
      },
      "source": [
        "### **Random tensors**\n",
        "Random tensors are important b/c the way neural networks work is that they start from random tensors and then update themselves in order to better represent the data `random tensors -> look at data -> update tensors -> repeat`"
      ]
    },
    {
      "cell_type": "code",
      "execution_count": null,
      "metadata": {
        "id": "mO2mxk72cUlq"
      },
      "outputs": [],
      "source": [
        "# How to generate a random tensor of size\n",
        "TENSOR = torch.rand(5, 5, 15)\n",
        "print(TENSOR)"
      ]
    },
    {
      "cell_type": "code",
      "execution_count": null,
      "metadata": {
        "colab": {
          "base_uri": "https://localhost:8080/"
        },
        "id": "XoatmAmBfB14",
        "outputId": "e744f442-e0e5-4d8f-f3f0-574daf633be3"
      },
      "outputs": [],
      "source": [
        "# generate a tensor for an image\n",
        "image = torch.rand(500, 500, 3) # height, width, rgb color channels\n",
        "print(image.shape, image.ndim)"
      ]
    },
    {
      "cell_type": "code",
      "execution_count": null,
      "metadata": {
        "id": "LAtBbpYQgLeQ"
      },
      "outputs": [],
      "source": [
        "# zeros or ones tensors\n",
        "zeros = torch.zeros(5, 5)\n",
        "print(zeros)\n",
        "\n",
        "ones = torch.ones(5, 5)\n",
        "print(ones)"
      ]
    },
    {
      "cell_type": "markdown",
      "metadata": {},
      "source": [
        "---"
      ]
    },
    {
      "cell_type": "markdown",
      "metadata": {},
      "source": [
        "### **Range tensors**"
      ]
    },
    {
      "cell_type": "code",
      "execution_count": null,
      "metadata": {
        "id": "SYtzn-trvjA-"
      },
      "outputs": [],
      "source": [
        "\n",
        "# generate tensors of varying range\n",
        "tens = torch.arange(start=0, end=100, step=5)\n",
        "print(tens)\n",
        "zeros_like = torch.zeros_like(tens)\n",
        "print(zeros_like)"
      ]
    },
    {
      "cell_type": "markdown",
      "metadata": {},
      "source": [
        "---"
      ]
    },
    {
      "cell_type": "markdown",
      "metadata": {},
      "source": [
        "### **Tensor datatypes**"
      ]
    },
    {
      "cell_type": "code",
      "execution_count": null,
      "metadata": {
        "id": "OZI4ZOWlwRfE"
      },
      "outputs": [],
      "source": [
        "# Tensor datatypes\n",
        "\n",
        "tens = torch.rand(2,2, 2).detach().clone()\n",
        "tens = tens.to(dtype=None, device=None)\n",
        "tens.requires_grad_(False)\n",
        "# tyoes like float16, float32, etc,. If you give None it will fallback to default float32\n",
        "# device refers to 'cpu' or 'cuda'\n",
        "# track gradient of the tensors as it goes through different operations\n",
        "\n",
        "\n",
        "print(tens.dtype)\n",
        "print(tens.type(float16))\n",
        "print(tens.type(float64))\n",
        "print(tens.type(int8))\n",
        "print(tens.type(float16) + tens.type(float16), '\\n')\n",
        "\n",
        "print(\"Tensor shape:\",tens.shape)\n",
        "print(\"Tensor is on device:\",tens.device)"
      ]
    },
    {
      "cell_type": "markdown",
      "metadata": {},
      "source": [
        "---"
      ]
    },
    {
      "cell_type": "markdown",
      "metadata": {},
      "source": [
        "### **Tensor operations**"
      ]
    },
    {
      "cell_type": "code",
      "execution_count": null,
      "metadata": {
        "id": "6uZTY_NH7z-K"
      },
      "outputs": [],
      "source": [
        "# Basic Tensor Operations\n",
        "\n",
        "# Create two tensors\n",
        "tensor_a = torch.tensor([1, 2, 3])\n",
        "tensor_b = torch.tensor([4, 5, 6])\n",
        "\n",
        "# Addition\n",
        "addition_result = tensor_a + tensor_b\n",
        "print(\"Addition:\", addition_result)\n",
        "\n",
        "# Subtraction\n",
        "subtraction_result = tensor_b - tensor_a\n",
        "print(\"Subtraction:\", subtraction_result)\n",
        "\n",
        "# Multiplication (element-wise)\n",
        "multiplication_result = tensor_a * tensor_b\n",
        "print(\"Element-wise Multiplication:\", multiplication_result)\n",
        "\n",
        "# Division (element-wise)\n",
        "division_result = tensor_b / tensor_a\n",
        "print(\"Element-wise Division:\", division_result)\n",
        "\n",
        "# Matrix Multiplication (dot product)\n",
        "# For matrix multiplication, the inner dimensions must match.\n",
        "# Let's create slightly different tensors for this example.\n",
        "tensor_c = torch.tensor([[1, 2], [3, 4]])\n",
        "tensor_d = torch.tensor([[5, 6], [7, 8]])\n",
        "\n",
        "matrix_multiplication_result = torch.matmul(tensor_c, tensor_d)\n",
        "print(\"Matrix Multiplication:\", matrix_multiplication_result)\n",
        "\n",
        "# Another way to do matrix multiplication\n",
        "matrix_multiplication_result_alt = tensor_c @ tensor_d\n",
        "print(\"Matrix Multiplication (using @):\", matrix_multiplication_result_alt)"
      ]
    },
    {
      "cell_type": "code",
      "execution_count": null,
      "metadata": {
        "id": "U7GSOR3t8xw5"
      },
      "outputs": [],
      "source": [
        "tensor_e = torch.randint(0, 10, (2, 3, 3), dtype=int8)\n",
        "print(tensor_e)\n",
        "print(tensor_e.dtype)\n",
        "print(tensor_e * 10)\n",
        "print(tensor_e + 10)\n",
        "print(tensor_e - 10)\n",
        "print(tensor_e / 10)"
      ]
    },
    {
      "cell_type": "code",
      "execution_count": null,
      "metadata": {
        "id": "eo7nrlZC_6BW"
      },
      "outputs": [],
      "source": [
        "tensor_a = torch.randint(0, 10, (1000,), dtype=int8)\n",
        "tensor_b = torch.randint(0, 10, (1000,), dtype=int8)"
      ]
    },
    {
      "cell_type": "code",
      "execution_count": null,
      "metadata": {
        "colab": {
          "base_uri": "https://localhost:8080/"
        },
        "id": "mkbPhPIk_zrM",
        "outputId": "fa93c9b2-c1b7-4e9b-c361-bd715c32732d"
      },
      "outputs": [],
      "source": [
        "%%time\n",
        "value = 0\n",
        "for i in range(len(tensor_a)):\n",
        "    value += tensor_a[i] + tensor_b[i]\n",
        "print(value)"
      ]
    },
    {
      "cell_type": "code",
      "execution_count": null,
      "metadata": {
        "colab": {
          "base_uri": "https://localhost:8080/"
        },
        "id": "IGYUOiIyAhTa",
        "outputId": "15ce87e7-021c-49e7-c19d-7f69d57214f0"
      },
      "outputs": [],
      "source": [
        "%%time\n",
        "tens_a = torch.add(tensor_a, tensor_b)"
      ]
    },
    {
      "cell_type": "code",
      "execution_count": null,
      "metadata": {
        "colab": {
          "base_uri": "https://localhost:8080/"
        },
        "id": "JB5ZcmdOBZeK",
        "outputId": "38b7bf95-675a-4812-8a72-3de3a8f7fdad"
      },
      "outputs": [],
      "source": [
        "%%time\n",
        "tens = tensor_a + tensor_b"
      ]
    },
    {
      "cell_type": "code",
      "execution_count": null,
      "metadata": {
        "colab": {
          "base_uri": "https://localhost:8080/"
        },
        "id": "OSNKMLE-CrGv",
        "outputId": "e7741e29-9103-4ac0-a52e-6dfc86cf4cd2"
      },
      "outputs": [],
      "source": [
        "# Transponse a Tensor\n",
        "\n",
        "tensor_a = torch.randint(0, 50, (2, 5), dtype=int8)\n",
        "print(tensor_a)\n",
        "print(tensor_a.T)"
      ]
    },
    {
      "cell_type": "markdown",
      "metadata": {},
      "source": [
        "---"
      ]
    },
    {
      "cell_type": "markdown",
      "metadata": {},
      "source": [
        "### **Tensor aggregations**"
      ]
    },
    {
      "cell_type": "code",
      "execution_count": null,
      "metadata": {
        "colab": {
          "base_uri": "https://localhost:8080/"
        },
        "id": "nYb5og8-EwZe",
        "outputId": "14bc7f7c-b67d-40b8-fce5-78fc3ff9d045"
      },
      "outputs": [],
      "source": [
        "# Tensor Aggregation\n",
        "\n",
        "# Create a tensor\n",
        "tensor_agg = torch.randint(0, 100, (5, 5), dtype=torch.int8)\n",
        "print(\"Original Tensor:\")\n",
        "print(tensor_agg)\n",
        "\n",
        "# Find the minimum value\n",
        "min_value = torch.min(tensor_agg)\n",
        "print(\"\\nMinimum value:\", min_value, tensor_agg.min())\n",
        "\n",
        "# Find the maximum value\n",
        "max_value = torch.max(tensor_agg)\n",
        "print(\"Maximum value:\", max_value, tensor_agg.max())\n",
        "\n",
        "# Find the mean value (convert to float for mean calculation)\n",
        "mean_value = torch.mean(tensor_agg.float())\n",
        "print(\"Mean value:\", mean_value, tensor_agg.float().mean())\n",
        "\n",
        "# Find the sum of all elements\n",
        "sum_value = torch.sum(tensor_agg)\n",
        "print(\"Sum of all elements:\", sum_value, tensor_agg.sum())\n",
        "\n",
        "# Find the index of the minimum value\n",
        "argmin_value = torch.argmin(tensor_agg)\n",
        "print(\"Index of minimum value (flattened):\", argmin_value, tensor_agg.argmin())\n",
        "\n",
        "# Find the index of the maximum value\n",
        "argmax_value = torch.argmax(tensor_agg)\n",
        "print(\"Index of maximum value (flattened):\", argmax_value, tensor_agg.argmax())\n",
        "\n",
        "# Aggregation along a specific dimension (e.g., across columns, dim=1)\n",
        "mean_across_columns = torch.mean(tensor_agg.float(), dim=1)\n",
        "print(\"\\nMean across columns:\", mean_across_columns, tensor_agg.float().mean(dim=1))\n",
        "\n",
        "# Aggregation along a specific dimension (e.g., across rows, dim=0)\n",
        "sum_across_rows = torch.sum(tensor_agg, dim=0)\n",
        "print(\"Sum across rows:\", sum_across_rows, tensor_agg.sum(dim=0))"
      ]
    },
    {
      "cell_type": "markdown",
      "metadata": {},
      "source": [
        "---"
      ]
    }
  ],
  "metadata": {
    "colab": {
      "authorship_tag": "ABX9TyPeyygojjWdUkU6SzIfguSq",
      "include_colab_link": true,
      "provenance": []
    },
    "kernelspec": {
      "display_name": "venv",
      "language": "python",
      "name": "python3"
    },
    "language_info": {
      "codemirror_mode": {
        "name": "ipython",
        "version": 3
      },
      "file_extension": ".py",
      "mimetype": "text/x-python",
      "name": "python",
      "nbconvert_exporter": "python",
      "pygments_lexer": "ipython3",
      "version": "3.12.3"
    }
  },
  "nbformat": 4,
  "nbformat_minor": 0
}
