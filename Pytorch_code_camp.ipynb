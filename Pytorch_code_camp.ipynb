{
  "nbformat": 4,
  "nbformat_minor": 0,
  "metadata": {
    "colab": {
      "provenance": [],
      "authorship_tag": "ABX9TyPeyygojjWdUkU6SzIfguSq",
      "include_colab_link": true
    },
    "kernelspec": {
      "name": "python3",
      "display_name": "Python 3"
    },
    "language_info": {
      "name": "python"
    }
  },
  "cells": [
    {
      "cell_type": "markdown",
      "metadata": {
        "id": "view-in-github",
        "colab_type": "text"
      },
      "source": [
        "<a href=\"https://colab.research.google.com/github/owaisali246/pytorch/blob/main/Pytorch_code_camp.ipynb\" target=\"_parent\"><img src=\"https://colab.research.google.com/assets/colab-badge.svg\" alt=\"Open In Colab\"/></a>"
      ]
    },
    {
      "cell_type": "markdown",
      "source": [
        "YT-time: 1:22:00"
      ],
      "metadata": {
        "id": "w-kcXE4y1T4G"
      }
    },
    {
      "cell_type": "code",
      "execution_count": 69,
      "metadata": {
        "id": "qKd9f2TfpZkb"
      },
      "outputs": [],
      "source": [
        "# imports\n",
        "\n",
        "import numpy as np\n",
        "import pandas as pd\n",
        "import matplotlib.pyplot as plt\n",
        "import torch\n",
        "from torch import float32, float16, float64, int8"
      ]
    },
    {
      "cell_type": "code",
      "source": [
        "print(torch.__version__)\n",
        "!nvidia-smi"
      ],
      "metadata": {
        "id": "f9p4CdWvtniB"
      },
      "execution_count": null,
      "outputs": []
    },
    {
      "cell_type": "markdown",
      "source": [
        "# Introduction to Tensors"
      ],
      "metadata": {
        "id": "Ix8PrERzTGBV"
      }
    },
    {
      "cell_type": "markdown",
      "source": [
        "## Scalars"
      ],
      "metadata": {
        "id": "3s5fL0yETKOM"
      }
    },
    {
      "cell_type": "code",
      "source": [
        "scalar = torch.tensor(7)\n",
        "print(scalar)\n",
        "print(scalar.ndim)\n",
        "print(scalar.item())"
      ],
      "metadata": {
        "id": "9P6QVCt713qp",
        "colab": {
          "base_uri": "https://localhost:8080/"
        },
        "outputId": "8359010f-f3e1-431b-e489-f3496decaa5d"
      },
      "execution_count": 3,
      "outputs": [
        {
          "output_type": "stream",
          "name": "stdout",
          "text": [
            "tensor(7)\n",
            "0\n",
            "7\n"
          ]
        }
      ]
    },
    {
      "cell_type": "markdown",
      "source": [
        "## Vectors"
      ],
      "metadata": {
        "id": "nQZr2uiXUG59"
      }
    },
    {
      "cell_type": "code",
      "source": [
        "vector = torch.tensor([7, 8])\n",
        "print(vector)\n",
        "print(vector.ndim)\n",
        "print(vector.shape)"
      ],
      "metadata": {
        "outputId": "7941f8b4-8d35-4e32-cbf7-705173380372",
        "colab": {
          "base_uri": "https://localhost:8080/"
        },
        "id": "vg8mQMpqUG6F"
      },
      "execution_count": 6,
      "outputs": [
        {
          "output_type": "stream",
          "name": "stdout",
          "text": [
            "tensor([7, 8])\n",
            "1\n",
            "torch.Size([2])\n"
          ]
        }
      ]
    },
    {
      "cell_type": "markdown",
      "source": [
        "## Matrix"
      ],
      "metadata": {
        "id": "nh5Is597UxHb"
      }
    },
    {
      "cell_type": "code",
      "source": [
        "MATRIX = torch.tensor([[7, 8], [1, 9]])\n",
        "print(MATRIX)\n",
        "print(MATRIX.ndim)\n",
        "print(MATRIX.shape)\n",
        "print(MATRIX[0][1])"
      ],
      "metadata": {
        "outputId": "3a5a7e12-525c-4030-a5a6-4db1416599a5",
        "colab": {
          "base_uri": "https://localhost:8080/"
        },
        "id": "FwZ3Wh3gUxHf"
      },
      "execution_count": 9,
      "outputs": [
        {
          "output_type": "stream",
          "name": "stdout",
          "text": [
            "tensor([[7, 8],\n",
            "        [1, 9]])\n",
            "2\n",
            "torch.Size([2, 2])\n",
            "tensor(8)\n"
          ]
        }
      ]
    },
    {
      "cell_type": "markdown",
      "source": [
        "## Tensors"
      ],
      "metadata": {
        "id": "hRcUvWGiVrYa"
      }
    },
    {
      "cell_type": "code",
      "source": [
        "TENSOR = torch.tensor([[[7, 5], [1, 9], [2, 2]], [[1, 4], [2, 8], [3, 7]]])\n",
        "print(TENSOR)\n",
        "\n",
        "print(TENSOR.ndim)\n",
        "print(TENSOR.shape)\n",
        "print(TENSOR[0][1])"
      ],
      "metadata": {
        "id": "qhq3dCCuVrYi"
      },
      "execution_count": null,
      "outputs": []
    },
    {
      "cell_type": "markdown",
      "source": [
        "### Random tensors\n",
        "Random tensors are important b/c the way neural networks work is that they start from random tensors and then update themselves in order to better represent the data `random tensors -> look at data -> update tensors -> repeat`"
      ],
      "metadata": {
        "id": "PDo0_vptcVkZ"
      }
    },
    {
      "cell_type": "code",
      "source": [
        "# How to generate a random tensor of size\n",
        "TENSOR = torch.rand(5, 5, 15)\n",
        "print(TENSOR)"
      ],
      "metadata": {
        "id": "mO2mxk72cUlq"
      },
      "execution_count": null,
      "outputs": []
    },
    {
      "cell_type": "code",
      "source": [
        "# generate a tensor for an image\n",
        "image = torch.rand(500, 500, 3) # height, width, rgb color channels\n",
        "print(image.shape, image.ndim)"
      ],
      "metadata": {
        "colab": {
          "base_uri": "https://localhost:8080/"
        },
        "id": "XoatmAmBfB14",
        "outputId": "e744f442-e0e5-4d8f-f3f0-574daf633be3"
      },
      "execution_count": 35,
      "outputs": [
        {
          "output_type": "stream",
          "name": "stdout",
          "text": [
            "torch.Size([500, 500, 3]) 3\n"
          ]
        }
      ]
    },
    {
      "cell_type": "code",
      "source": [
        "# zeros or ones tensors\n",
        "zeros = torch.zeros(5, 5)\n",
        "print(zeros)\n",
        "\n",
        "ones = torch.ones(5, 5)\n",
        "print(ones)"
      ],
      "metadata": {
        "id": "LAtBbpYQgLeQ"
      },
      "execution_count": null,
      "outputs": []
    },
    {
      "cell_type": "code",
      "source": [
        "# generate tensors of varying range\n",
        "tens = torch.arange(start=0, end=100, step=5)\n",
        "print(tens)\n",
        "zeros_like = torch.zeros_like(tens)\n",
        "print(zeros_like)"
      ],
      "metadata": {
        "id": "SYtzn-trvjA-"
      },
      "execution_count": null,
      "outputs": []
    },
    {
      "cell_type": "code",
      "source": [
        "# Tensor datatypes\n",
        "\n",
        "tens = torch.rand(2,2, 2).detach().clone()\n",
        "tens = tens.to(dtype=None, device=None)\n",
        "tens.requires_grad_(False)\n",
        "# tyoes like float16, float32, etc,. If you give None it will fallback to default float32\n",
        "# device refers to 'cpu' or 'cuda'\n",
        "# track gradient of the tensors as it goes through different operations\n",
        "\n",
        "\n",
        "print(tens.dtype)\n",
        "print(tens.type(float16))\n",
        "print(tens.type(float64))\n",
        "print(tens.type(int8))\n",
        "print(tens.type(float16) + tens.type(float16), '\\n')\n",
        "\n",
        "print(\"Tensor shape:\",tens.shape)\n",
        "print(\"Tensor is on device:\",tens.device)"
      ],
      "metadata": {
        "id": "OZI4ZOWlwRfE"
      },
      "execution_count": null,
      "outputs": []
    },
    {
      "cell_type": "code",
      "source": [
        "# Basic Tensor Operations\n",
        "\n",
        "# Create two tensors\n",
        "tensor_a = torch.tensor([1, 2, 3])\n",
        "tensor_b = torch.tensor([4, 5, 6])\n",
        "\n",
        "# Addition\n",
        "addition_result = tensor_a + tensor_b\n",
        "print(\"Addition:\", addition_result)\n",
        "\n",
        "# Subtraction\n",
        "subtraction_result = tensor_b - tensor_a\n",
        "print(\"Subtraction:\", subtraction_result)\n",
        "\n",
        "# Multiplication (element-wise)\n",
        "multiplication_result = tensor_a * tensor_b\n",
        "print(\"Element-wise Multiplication:\", multiplication_result)\n",
        "\n",
        "# Division (element-wise)\n",
        "division_result = tensor_b / tensor_a\n",
        "print(\"Element-wise Division:\", division_result)\n",
        "\n",
        "# Matrix Multiplication (dot product)\n",
        "# For matrix multiplication, the inner dimensions must match.\n",
        "# Let's create slightly different tensors for this example.\n",
        "tensor_c = torch.tensor([[1, 2], [3, 4]])\n",
        "tensor_d = torch.tensor([[5, 6], [7, 8]])\n",
        "\n",
        "matrix_multiplication_result = torch.matmul(tensor_c, tensor_d)\n",
        "print(\"Matrix Multiplication:\", matrix_multiplication_result)\n",
        "\n",
        "# Another way to do matrix multiplication\n",
        "matrix_multiplication_result_alt = tensor_c @ tensor_d\n",
        "print(\"Matrix Multiplication (using @):\", matrix_multiplication_result_alt)"
      ],
      "metadata": {
        "id": "6uZTY_NH7z-K"
      },
      "execution_count": null,
      "outputs": []
    },
    {
      "cell_type": "code",
      "source": [
        "tensor_e = torch.randint(0, 10, (2, 3, 3), dtype=int8)\n",
        "print(tensor_e)\n",
        "print(tensor_e.dtype)\n",
        "print(tensor_e * 10)\n",
        "print(tensor_e + 10)\n",
        "print(tensor_e - 10)\n",
        "print(tensor_e / 10)"
      ],
      "metadata": {
        "id": "U7GSOR3t8xw5"
      },
      "execution_count": null,
      "outputs": []
    },
    {
      "cell_type": "code",
      "source": [
        "tensor_a = torch.randint(0, 10, (1000,), dtype=int8)\n",
        "tensor_b = torch.randint(0, 10, (1000,), dtype=int8)"
      ],
      "metadata": {
        "id": "eo7nrlZC_6BW"
      },
      "execution_count": 116,
      "outputs": []
    },
    {
      "cell_type": "code",
      "source": [
        "%%time\n",
        "value = 0\n",
        "for i in range(len(tensor_a)):\n",
        "    value += tensor_a[i] + tensor_b[i]\n",
        "print(value)"
      ],
      "metadata": {
        "colab": {
          "base_uri": "https://localhost:8080/"
        },
        "id": "mkbPhPIk_zrM",
        "outputId": "fa93c9b2-c1b7-4e9b-c361-bd715c32732d"
      },
      "execution_count": 125,
      "outputs": [
        {
          "output_type": "stream",
          "name": "stdout",
          "text": [
            "tensor(114, dtype=torch.int8)\n",
            "CPU times: user 7.11 ms, sys: 1.01 ms, total: 8.12 ms\n",
            "Wall time: 8.2 ms\n"
          ]
        }
      ]
    },
    {
      "cell_type": "code",
      "source": [
        "%%time\n",
        "tens_a = torch.add(tensor_a, tensor_b)"
      ],
      "metadata": {
        "colab": {
          "base_uri": "https://localhost:8080/"
        },
        "id": "IGYUOiIyAhTa",
        "outputId": "15ce87e7-021c-49e7-c19d-7f69d57214f0"
      },
      "execution_count": 133,
      "outputs": [
        {
          "output_type": "stream",
          "name": "stdout",
          "text": [
            "CPU times: user 772 µs, sys: 31 µs, total: 803 µs\n",
            "Wall time: 621 µs\n"
          ]
        }
      ]
    },
    {
      "cell_type": "code",
      "source": [
        "%%time\n",
        "tens = tensor_a + tensor_b"
      ],
      "metadata": {
        "colab": {
          "base_uri": "https://localhost:8080/"
        },
        "id": "JB5ZcmdOBZeK",
        "outputId": "38b7bf95-675a-4812-8a72-3de3a8f7fdad"
      },
      "execution_count": 137,
      "outputs": [
        {
          "output_type": "stream",
          "name": "stdout",
          "text": [
            "CPU times: user 146 µs, sys: 6 µs, total: 152 µs\n",
            "Wall time: 157 µs\n"
          ]
        }
      ]
    },
    {
      "cell_type": "code",
      "source": [
        "# Transponse a Tensor\n",
        "\n",
        "tensor_a = torch.randint(0, 50, (2, 5), dtype=int8)\n",
        "print(tensor_a)\n",
        "print(tensor_a.T)"
      ],
      "metadata": {
        "colab": {
          "base_uri": "https://localhost:8080/"
        },
        "id": "OSNKMLE-CrGv",
        "outputId": "e7741e29-9103-4ac0-a52e-6dfc86cf4cd2"
      },
      "execution_count": 146,
      "outputs": [
        {
          "output_type": "stream",
          "name": "stdout",
          "text": [
            "tensor([[39, 29, 49, 19,  2],\n",
            "        [38, 27, 23, 47, 49]], dtype=torch.int8)\n",
            "tensor([[39, 38],\n",
            "        [29, 27],\n",
            "        [49, 23],\n",
            "        [19, 47],\n",
            "        [ 2, 49]], dtype=torch.int8)\n"
          ]
        }
      ]
    },
    {
      "cell_type": "code",
      "source": [
        "# Tensor Aggregation\n",
        "\n",
        "# Create a tensor\n",
        "tensor_agg = torch.randint(0, 100, (5, 5), dtype=torch.int8)\n",
        "print(\"Original Tensor:\")\n",
        "print(tensor_agg)\n",
        "\n",
        "# Find the minimum value\n",
        "min_value = torch.min(tensor_agg)\n",
        "print(\"\\nMinimum value:\", min_value, tensor_agg.min())\n",
        "\n",
        "# Find the maximum value\n",
        "max_value = torch.max(tensor_agg)\n",
        "print(\"Maximum value:\", max_value, tensor_agg.max())\n",
        "\n",
        "# Find the mean value\n",
        "mean_value = torch.mean(tensor_agg)\n",
        "print(\"Mean value:\", mean_value, tensor_agg.mean())\n",
        "\n",
        "# Find the sum of all elements\n",
        "sum_value = torch.sum(tensor_agg)\n",
        "print(\"Sum of all elements:\", sum_value, tensor_agg.sum())\n",
        "\n",
        "# Find the index of the minimum value\n",
        "argmin_value = torch.argmin(tensor_agg)\n",
        "print(\"Index of minimum value (flattened):\", argmin_value, tensor_agg.argmin())\n",
        "\n",
        "# Find the index of the maximum value\n",
        "argmax_value = torch.argmax(tensor_agg)\n",
        "print(\"Index of maximum value (flattened):\", argmax_value, tensor_agg.argmax())\n",
        "\n",
        "# Aggregation along a specific dimension (e.g., across columns, dim=1)\n",
        "mean_across_columns = torch.mean(tensor_agg, dim=1)\n",
        "print(\"\\nMean across columns:\", mean_across_columns, tensor_agg.mean(dim=1))\n",
        "\n",
        "# Aggregation along a specific dimension (e.g., across rows, dim=0)\n",
        "sum_across_rows = torch.sum(tensor_agg, dim=0)\n",
        "print(\"Sum across rows:\", sum_across_rows, tensor_agg.sum(dim=0))"
      ],
      "metadata": {
        "colab": {
          "base_uri": "https://localhost:8080/"
        },
        "id": "nYb5og8-EwZe",
        "outputId": "14bc7f7c-b67d-40b8-fce5-78fc3ff9d045"
      },
      "execution_count": 147,
      "outputs": [
        {
          "output_type": "stream",
          "name": "stdout",
          "text": [
            "Original Tensor:\n",
            "tensor([[75., 13., 89., 51., 24.],\n",
            "        [45., 99., 42., 54., 90.],\n",
            "        [68., 93.,  6., 56., 85.],\n",
            "        [51., 20., 62., 62., 13.],\n",
            "        [68., 54., 14., 86., 29.]])\n",
            "\n",
            "Minimum value: tensor(6.) tensor(6.)\n",
            "Maximum value: tensor(99.) tensor(99.)\n",
            "Mean value: tensor(53.9600) tensor(53.9600)\n",
            "Sum of all elements: tensor(1349.) tensor(1349.)\n",
            "Index of minimum value (flattened): tensor(12) tensor(12)\n",
            "Index of maximum value (flattened): tensor(6) tensor(6)\n",
            "\n",
            "Mean across columns: tensor([50.4000, 66.0000, 61.6000, 41.6000, 50.2000]) tensor([50.4000, 66.0000, 61.6000, 41.6000, 50.2000])\n",
            "Sum across rows: tensor([307., 279., 213., 309., 241.]) tensor([307., 279., 213., 309., 241.])\n"
          ]
        }
      ]
    }
  ]
}